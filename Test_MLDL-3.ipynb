{
 "cells": [
  {
   "cell_type": "code",
   "execution_count": 1,
   "metadata": {
    "colab": {
     "base_uri": "https://localhost:8080/"
    },
    "id": "juN7AHWscsIk",
    "outputId": "19b62e81-8dc8-4af3-8724-5d3aae82a417"
   },
   "outputs": [
    {
     "name": "stdout",
     "output_type": "stream",
     "text": [
      "fatal: destination path 'Robot_Tool_Segmentation' already exists and is not an empty directory.\n",
      "/content/Robot_Tool_Segmentation\n"
     ]
    }
   ],
   "source": [
    "!git clone https://github.com/sameerkhan7/Robot_Tool_Segmentation.git\n",
    "%cd Robot_Tool_Segmentation\n"
   ]
  },
  {
   "cell_type": "code",
   "execution_count": 2,
   "metadata": {
    "colab": {
     "base_uri": "https://localhost:8080/"
    },
    "id": "M3Trevp4dQV3",
    "outputId": "5bf43e19-141f-4853-fd16-027e18254378"
   },
   "outputs": [
    {
     "name": "stdout",
     "output_type": "stream",
     "text": [
      "Drive already mounted at /content/drive; to attempt to forcibly remount, call drive.mount(\"/content/drive\", force_remount=True).\n"
     ]
    }
   ],
   "source": [
    "from google.colab import drive\n",
    "drive.mount('/content/drive')"
   ]
  },
  {
   "cell_type": "code",
   "execution_count": 3,
   "metadata": {
    "colab": {
     "base_uri": "https://localhost:8080/"
    },
    "id": "lPmKuvMax45f",
    "outputId": "cdf3b754-e15e-4299-9919-e849f22c20e9"
   },
   "outputs": [
    {
     "name": "stdout",
     "output_type": "stream",
     "text": [
      "/content/Robot_Tool_Segmentation\n"
     ]
    }
   ],
   "source": [
    "!pwd"
   ]
  },
  {
   "cell_type": "markdown",
   "metadata": {
    "id": "q6s-V1rEwRay"
   },
   "source": [
    "# Downloading the data ONCE"
   ]
  },
  {
   "cell_type": "code",
   "execution_count": 4,
   "metadata": {
    "id": "mXDKKraNwWVC"
   },
   "outputs": [],
   "source": [
    "# # Downloading\n",
    "# !cp /content/drive/MyDrive/data.zip /content/Robot_Tool_Segmentation/\n"
   ]
  },
  {
   "cell_type": "code",
   "execution_count": 5,
   "metadata": {
    "colab": {
     "base_uri": "https://localhost:8080/"
    },
    "id": "3IPWcAZnyWbG",
    "outputId": "84e57d3a-d540-4810-c2a8-1ec770a2fd60"
   },
   "outputs": [
    {
     "name": "stdout",
     "output_type": "stream",
     "text": [
      "/content/Robot_Tool_Segmentation\n"
     ]
    }
   ],
   "source": [
    "%cd /content/Robot_Tool_Segmentation/\n",
    "# !unzip data.zip -d data"
   ]
  },
  {
   "cell_type": "code",
   "execution_count": 6,
   "metadata": {
    "id": "9tecc0kQjHMQ"
   },
   "outputs": [],
   "source": [
    "#%cd /content/Robot_Tool_Segmentation\n",
    "# Remove the 'data' folder and its contents\n",
    "# !rm -rf data\n"
   ]
  },
  {
   "cell_type": "code",
   "execution_count": 7,
   "metadata": {
    "colab": {
     "base_uri": "https://localhost:8080/"
    },
    "id": "nWQ7UV2CoAr5",
    "outputId": "1d60d003-5613-467e-8943-7687909639c1"
   },
   "outputs": [
    {
     "name": "stdout",
     "output_type": "stream",
     "text": [
      "BAAnet.ipynb  data\t\tEndovisDataloader.py  __pycache__      TrainingUtils.py\n",
      "BAAnet.py     DecoderModule.py\tLICENSE\t\t      README.md\n",
      "BBAModule.py  EncoderModule.py\tmodel.pth\t      Test_MLDL.ipynb\n",
      "/content/Robot_Tool_Segmentation\n"
     ]
    }
   ],
   "source": [
    "# Libraries\n",
    "!ls\n",
    "!pwd"
   ]
  },
  {
   "cell_type": "code",
   "execution_count": 8,
   "metadata": {
    "id": "raRa02QZoDaB"
   },
   "outputs": [],
   "source": [
    "import torch\n",
    "import random\n",
    "import matplotlib.pyplot as plt\n",
    "import numpy as np\n",
    "from tqdm.notebook import tqdm\n",
    "import EndovisDataloader\n",
    "import BBAModule\n",
    "import EncoderModule\n",
    "import TrainingUtils\n",
    "import BAAnet\n",
    "import DecoderModule\n"
   ]
  },
  {
   "cell_type": "code",
   "execution_count": 9,
   "metadata": {
    "id": "ddqUgGY-ouqT"
   },
   "outputs": [],
   "source": [
    "# set seed for reprodicibility\n",
    "def set_seed(seed):\n",
    "    random.seed(seed)  # Python random seed\n",
    "    np.random.seed(seed)  # NumPy random seed\n",
    "    torch.manual_seed(seed)  # PyTorch random seed for CPU\n",
    "    torch.cuda.manual_seed(seed)  # PyTorch random seed for GPU\n",
    "    torch.cuda.manual_seed_all(seed)  # PyTorch random seed for all GPUs\n",
    "    # Ensure deterministic behavior in CUDA\n",
    "    torch.backends.cudnn.deterministic = True\n",
    "    torch.backends.cudnn.benchmark = False"
   ]
  },
  {
   "cell_type": "code",
   "execution_count": 10,
   "metadata": {
    "colab": {
     "base_uri": "https://localhost:8080/"
    },
    "id": "jiHy3Z6UpJKm",
    "outputId": "7890d856-8e7f-413b-dc84-bf91c013b55a"
   },
   "outputs": [
    {
     "name": "stdout",
     "output_type": "stream",
     "text": [
      "/content/Robot_Tool_Segmentation/data\n",
      "/content/Robot_Tool_Segmentation/data\n"
     ]
    }
   ],
   "source": [
    "%cd /content/Robot_Tool_Segmentation/data/\n",
    "!pwd\n"
   ]
  },
  {
   "cell_type": "code",
   "execution_count": 11,
   "metadata": {
    "id": "ORH2pjoStbKh"
   },
   "outputs": [],
   "source": [
    "import os"
   ]
  },
  {
   "cell_type": "code",
   "execution_count": 12,
   "metadata": {
    "colab": {
     "base_uri": "https://localhost:8080/",
     "height": 35
    },
    "id": "DqYzhoCZtgeh",
    "outputId": "65f07e04-9350-42eb-8ceb-8d38a6644861"
   },
   "outputs": [
    {
     "data": {
      "application/vnd.google.colaboratory.intrinsic+json": {
       "type": "string"
      },
      "text/plain": [
       "'/content/Robot_Tool_Segmentation/data'"
      ]
     },
     "execution_count": 12,
     "metadata": {},
     "output_type": "execute_result"
    }
   ],
   "source": [
    "os.getcwd()"
   ]
  },
  {
   "cell_type": "code",
   "execution_count": 13,
   "metadata": {
    "colab": {
     "base_uri": "https://localhost:8080/"
    },
    "id": "Y0FAABS6tjY5",
    "outputId": "f485574d-1d17-43d5-e2af-d0f7774cfa6c"
   },
   "outputs": [
    {
     "name": "stdout",
     "output_type": "stream",
     "text": [
      "/content/drive/MyDrive\n"
     ]
    }
   ],
   "source": [
    "%cd /content/drive/MyDrive/"
   ]
  },
  {
   "cell_type": "code",
   "execution_count": 14,
   "metadata": {
    "colab": {
     "base_uri": "https://localhost:8080/"
    },
    "id": "d-Sz6hVgtssl",
    "outputId": "3387e14d-3e8d-4cb6-c92c-abb26cf0b9f1"
   },
   "outputs": [
    {
     "name": "stdout",
     "output_type": "stream",
     "text": [
      "--Data Information--\n",
      "Actual Image Size: (1280, 1024)\n",
      "Reduced Image Size: (320, 256)\n",
      "Training Set Size: 1639\n",
      "Validation Set Size: 596\n",
      "Test Set Size: 997\n"
     ]
    }
   ],
   "source": [
    "# get dataloaders and display test images\n",
    "seed = 42\n",
    "batch_size = 64\n",
    "reduce_factor = 4 # how much to reduce image size by before training\n",
    "num_workers = 0 # 0 for notebooks\n",
    "train_dataloader, val_dataloader, test_dataloader = EndovisDataloader.getDataloaders(batch_size, reduce_factor, num_workers,seed)\n"
   ]
  },
  {
   "cell_type": "markdown",
   "metadata": {
    "id": "Lt0JiQuJtuv5"
   },
   "source": [
    "## Setting Hyperparameters"
   ]
  },
  {
   "cell_type": "code",
   "execution_count": 15,
   "metadata": {
    "colab": {
     "base_uri": "https://localhost:8080/"
    },
    "id": "qoPv-wQJ4oUk",
    "outputId": "cab95a4e-7a76-4843-cb84-c297db177c46"
   },
   "outputs": [
    {
     "name": "stdout",
     "output_type": "stream",
     "text": [
      "cuda:0\n"
     ]
    },
    {
     "name": "stderr",
     "output_type": "stream",
     "text": [
      "/usr/local/lib/python3.10/dist-packages/torchvision/models/_utils.py:208: UserWarning: The parameter 'pretrained' is deprecated since 0.13 and may be removed in the future, please use 'weights' instead.\n",
      "  warnings.warn(\n",
      "/usr/local/lib/python3.10/dist-packages/torchvision/models/_utils.py:223: UserWarning: Arguments other than a weight enum or `None` for 'weights' are deprecated since 0.13 and may be removed in the future. The current behavior is equivalent to passing `weights=MobileNet_V2_Weights.IMAGENET1K_V1`. You can also use `weights=MobileNet_V2_Weights.DEFAULT` to get the most up-to-date weights.\n",
      "  warnings.warn(msg)\n"
     ]
    }
   ],
   "source": [
    "# model and hyperparameters\n",
    "device = torch.device(\"cuda:0\" if torch.cuda.is_available() else \"cpu\")\n",
    "print(device)\n",
    "epochs = 50\n",
    "lr = 1e-4\n",
    "set_seed(seed) # set random seed\n",
    "#model = BAAnet.BAANet_BBA_Only().to(device)\n",
    "#model = BAAnet.BAANet().to(device)\n",
    "model = BAAnet.BAANet_BAF_Only().to(device)\n",
    "optimizer = torch.optim.Adam(model.parameters(), lr=lr) # Adam optimizer\n",
    "criterion = TrainingUtils.DICELoss # loss function\n",
    "#criterion = torch.nn.CrossEntropyLoss()\n",
    "scheduler = torch.optim.lr_scheduler.StepLR(optimizer, step_size=50, gamma=0.5) # learning rate scheduler"
   ]
  },
  {
   "cell_type": "markdown",
   "metadata": {
    "id": "KC_EnZ-w4rai"
   },
   "source": [
    "## Training"
   ]
  },
  {
   "cell_type": "code",
   "execution_count": 16,
   "metadata": {
    "colab": {
     "base_uri": "https://localhost:8080/"
    },
    "id": "S_gmHFEF4167",
    "outputId": "9fa4901d-105d-49e6-ea96-c24c85d43b8f"
   },
   "outputs": [
    {
     "name": "stderr",
     "output_type": "stream",
     "text": [
      "0it [00:00, ?it/s]/usr/local/lib/python3.10/dist-packages/torch/optim/lr_scheduler.py:240: UserWarning: The epoch parameter in `scheduler.step()` was not necessary and is being deprecated where possible. Please use `scheduler.step()` to step the scheduler. During the deprecation, if epoch is different from None, the closed form is used instead of the new chainable form, where available. Please open an issue if you are unable to replicate your use case: https://github.com/pytorch/pytorch/issues/new/choose.\n",
      "  warnings.warn(EPOCH_DEPRECATION_WARNING, UserWarning)\n",
      "26it [02:52,  6.63s/it]\n",
      "10it [11:15, 67.58s/it]\n"
     ]
    },
    {
     "name": "stdout",
     "output_type": "stream",
     "text": [
      "Epoch 0: Training Loss = 0.9576058439774991, mDICE: 0.5565833352179105, mIoU: 0.5440079002128616 mDICE Robot: 0.0012991538555537354, mIoU Robot: 0.0006519599301690275\n"
     ]
    },
    {
     "name": "stderr",
     "output_type": "stream",
     "text": [
      "26it [02:47,  6.44s/it]\n"
     ]
    },
    {
     "name": "stdout",
     "output_type": "stream",
     "text": [
      "Epoch 1: Training Loss = 0.955902881468869, mDICE: 0, mIoU: 0 mDICE Robot: 0, mIoU Robot: 0\n"
     ]
    },
    {
     "name": "stderr",
     "output_type": "stream",
     "text": [
      "26it [02:47,  6.43s/it]\n"
     ]
    },
    {
     "name": "stdout",
     "output_type": "stream",
     "text": [
      "Epoch 2: Training Loss = 0.9535451699802222, mDICE: 0, mIoU: 0 mDICE Robot: 0, mIoU Robot: 0\n"
     ]
    },
    {
     "name": "stderr",
     "output_type": "stream",
     "text": [
      "26it [02:46,  6.39s/it]\n"
     ]
    },
    {
     "name": "stdout",
     "output_type": "stream",
     "text": [
      "Epoch 3: Training Loss = 0.9502184831605447, mDICE: 0, mIoU: 0 mDICE Robot: 0, mIoU Robot: 0\n"
     ]
    },
    {
     "name": "stderr",
     "output_type": "stream",
     "text": [
      "26it [02:47,  6.43s/it]\n"
     ]
    },
    {
     "name": "stdout",
     "output_type": "stream",
     "text": [
      "Epoch 4: Training Loss = 0.9487344071000794, mDICE: 0, mIoU: 0 mDICE Robot: 0, mIoU Robot: 0\n"
     ]
    },
    {
     "name": "stderr",
     "output_type": "stream",
     "text": [
      "26it [02:45,  6.37s/it]\n",
      "10it [11:09, 67.00s/it]\n"
     ]
    },
    {
     "name": "stdout",
     "output_type": "stream",
     "text": [
      "Epoch 5: Training Loss = 0.9478452526476786, mDICE: 0.5626935485716197, mIoU: 0.5465686473526955 mDICE Robot: 0.03437500000000057, mIoU Robot: 0.03437500000000057\n"
     ]
    },
    {
     "name": "stderr",
     "output_type": "stream",
     "text": [
      "26it [02:43,  6.30s/it]\n"
     ]
    },
    {
     "name": "stdout",
     "output_type": "stream",
     "text": [
      "Epoch 6: Training Loss = 0.9471510081947483, mDICE: 0, mIoU: 0 mDICE Robot: 0, mIoU Robot: 0\n"
     ]
    },
    {
     "name": "stderr",
     "output_type": "stream",
     "text": [
      "26it [02:44,  6.31s/it]\n"
     ]
    },
    {
     "name": "stdout",
     "output_type": "stream",
     "text": [
      "Epoch 7: Training Loss = 0.9466641150933152, mDICE: 0, mIoU: 0 mDICE Robot: 0, mIoU Robot: 0\n"
     ]
    },
    {
     "name": "stderr",
     "output_type": "stream",
     "text": [
      "26it [02:43,  6.30s/it]\n"
     ]
    },
    {
     "name": "stdout",
     "output_type": "stream",
     "text": [
      "Epoch 8: Training Loss = 0.9461068414348475, mDICE: 0, mIoU: 0 mDICE Robot: 0, mIoU Robot: 0\n"
     ]
    },
    {
     "name": "stderr",
     "output_type": "stream",
     "text": [
      "26it [02:43,  6.29s/it]\n"
     ]
    },
    {
     "name": "stdout",
     "output_type": "stream",
     "text": [
      "Epoch 9: Training Loss = 0.9456190220358571, mDICE: 0, mIoU: 0 mDICE Robot: 0, mIoU Robot: 0\n"
     ]
    },
    {
     "name": "stderr",
     "output_type": "stream",
     "text": [
      "26it [02:44,  6.31s/it]\n",
      "10it [11:05, 66.57s/it]\n"
     ]
    },
    {
     "name": "stdout",
     "output_type": "stream",
     "text": [
      "Epoch 10: Training Loss = 0.9452766100238184, mDICE: 0.538032432960863, mIoU: 0.5213960987869827 mDICE Robot: 0.03437500000000057, mIoU Robot: 0.03437500000000057\n"
     ]
    },
    {
     "name": "stderr",
     "output_type": "stream",
     "text": [
      "26it [02:44,  6.31s/it]\n"
     ]
    },
    {
     "name": "stdout",
     "output_type": "stream",
     "text": [
      "Epoch 11: Training Loss = 0.9449150621887697, mDICE: 0, mIoU: 0 mDICE Robot: 0, mIoU Robot: 0\n"
     ]
    },
    {
     "name": "stderr",
     "output_type": "stream",
     "text": [
      "26it [02:43,  6.29s/it]\n"
     ]
    },
    {
     "name": "stdout",
     "output_type": "stream",
     "text": [
      "Epoch 12: Training Loss = 0.9445813443814924, mDICE: 0, mIoU: 0 mDICE Robot: 0, mIoU Robot: 0\n"
     ]
    },
    {
     "name": "stderr",
     "output_type": "stream",
     "text": [
      "26it [02:43,  6.30s/it]\n"
     ]
    },
    {
     "name": "stdout",
     "output_type": "stream",
     "text": [
      "Epoch 13: Training Loss = 0.9441876260593621, mDICE: 0, mIoU: 0 mDICE Robot: 0, mIoU Robot: 0\n"
     ]
    },
    {
     "name": "stderr",
     "output_type": "stream",
     "text": [
      "26it [02:44,  6.33s/it]\n"
     ]
    },
    {
     "name": "stdout",
     "output_type": "stream",
     "text": [
      "Epoch 14: Training Loss = 0.9438759597360241, mDICE: 0, mIoU: 0 mDICE Robot: 0, mIoU Robot: 0\n"
     ]
    },
    {
     "name": "stderr",
     "output_type": "stream",
     "text": [
      "26it [02:43,  6.29s/it]\n",
      "10it [11:05, 66.57s/it]\n"
     ]
    },
    {
     "name": "stdout",
     "output_type": "stream",
     "text": [
      "Epoch 15: Training Loss = 0.9435304616435339, mDICE: 0.5137860349258742, mIoU: 0.4963826985432519 mDICE Robot: 0.03437500000000057, mIoU Robot: 0.03437500000000057\n"
     ]
    },
    {
     "name": "stderr",
     "output_type": "stream",
     "text": [
      "26it [02:43,  6.30s/it]\n"
     ]
    },
    {
     "name": "stdout",
     "output_type": "stream",
     "text": [
      "Epoch 16: Training Loss = 0.9431805113035545, mDICE: 0, mIoU: 0 mDICE Robot: 0, mIoU Robot: 0\n"
     ]
    },
    {
     "name": "stderr",
     "output_type": "stream",
     "text": [
      "26it [02:43,  6.30s/it]\n"
     ]
    },
    {
     "name": "stdout",
     "output_type": "stream",
     "text": [
      "Epoch 17: Training Loss = 0.9428185089489965, mDICE: 0, mIoU: 0 mDICE Robot: 0, mIoU Robot: 0\n"
     ]
    },
    {
     "name": "stderr",
     "output_type": "stream",
     "text": [
      "26it [02:42,  6.27s/it]\n"
     ]
    },
    {
     "name": "stdout",
     "output_type": "stream",
     "text": [
      "Epoch 18: Training Loss = 0.942445891710572, mDICE: 0, mIoU: 0 mDICE Robot: 0, mIoU Robot: 0\n"
     ]
    },
    {
     "name": "stderr",
     "output_type": "stream",
     "text": [
      "26it [02:44,  6.31s/it]\n"
     ]
    },
    {
     "name": "stdout",
     "output_type": "stream",
     "text": [
      "Epoch 19: Training Loss = 0.94194619458236, mDICE: 0, mIoU: 0 mDICE Robot: 0, mIoU Robot: 0\n"
     ]
    },
    {
     "name": "stderr",
     "output_type": "stream",
     "text": [
      "26it [02:44,  6.34s/it]\n",
      "10it [11:05, 66.56s/it]\n"
     ]
    },
    {
     "name": "stdout",
     "output_type": "stream",
     "text": [
      "Epoch 20: Training Loss = 0.9414739536014989, mDICE: 0.5078729154446155, mIoU: 0.4901620536530599 mDICE Robot: 0.03437500000000057, mIoU Robot: 0.03437500000000057\n"
     ]
    },
    {
     "name": "stderr",
     "output_type": "stream",
     "text": [
      "26it [02:44,  6.32s/it]\n"
     ]
    },
    {
     "name": "stdout",
     "output_type": "stream",
     "text": [
      "Epoch 21: Training Loss = 0.9410285070070967, mDICE: 0, mIoU: 0 mDICE Robot: 0, mIoU Robot: 0\n"
     ]
    },
    {
     "name": "stderr",
     "output_type": "stream",
     "text": [
      "26it [02:44,  6.32s/it]\n"
     ]
    },
    {
     "name": "stdout",
     "output_type": "stream",
     "text": [
      "Epoch 22: Training Loss = 0.9406398582815138, mDICE: 0, mIoU: 0 mDICE Robot: 0, mIoU Robot: 0\n"
     ]
    },
    {
     "name": "stderr",
     "output_type": "stream",
     "text": [
      "26it [02:43,  6.28s/it]\n"
     ]
    },
    {
     "name": "stdout",
     "output_type": "stream",
     "text": [
      "Epoch 23: Training Loss = 0.9402054736582497, mDICE: 0, mIoU: 0 mDICE Robot: 0, mIoU Robot: 0\n"
     ]
    },
    {
     "name": "stderr",
     "output_type": "stream",
     "text": [
      "26it [02:44,  6.33s/it]\n"
     ]
    },
    {
     "name": "stdout",
     "output_type": "stream",
     "text": [
      "Epoch 24: Training Loss = 0.9399090717983013, mDICE: 0, mIoU: 0 mDICE Robot: 0, mIoU Robot: 0\n"
     ]
    },
    {
     "name": "stderr",
     "output_type": "stream",
     "text": [
      "26it [02:43,  6.28s/it]\n",
      "10it [11:04, 66.44s/it]\n"
     ]
    },
    {
     "name": "stdout",
     "output_type": "stream",
     "text": [
      "Epoch 25: Training Loss = 0.9394986825364712, mDICE: 0.507908048120732, mIoU: 0.4899531821778571 mDICE Robot: 0.03437500000000057, mIoU Robot: 0.03437500000000057\n"
     ]
    },
    {
     "name": "stderr",
     "output_type": "stream",
     "text": [
      "26it [02:43,  6.31s/it]\n"
     ]
    },
    {
     "name": "stdout",
     "output_type": "stream",
     "text": [
      "Epoch 26: Training Loss = 0.9392436380718979, mDICE: 0, mIoU: 0 mDICE Robot: 0, mIoU Robot: 0\n"
     ]
    },
    {
     "name": "stderr",
     "output_type": "stream",
     "text": [
      "26it [02:42,  6.27s/it]\n"
     ]
    },
    {
     "name": "stdout",
     "output_type": "stream",
     "text": [
      "Epoch 27: Training Loss = 0.9389974581779044, mDICE: 0, mIoU: 0 mDICE Robot: 0, mIoU Robot: 0\n"
     ]
    },
    {
     "name": "stderr",
     "output_type": "stream",
     "text": [
      "26it [02:43,  6.30s/it]\n"
     ]
    },
    {
     "name": "stdout",
     "output_type": "stream",
     "text": [
      "Epoch 28: Training Loss = 0.9387524146408862, mDICE: 0, mIoU: 0 mDICE Robot: 0, mIoU Robot: 0\n"
     ]
    },
    {
     "name": "stderr",
     "output_type": "stream",
     "text": [
      "26it [02:44,  6.32s/it]\n"
     ]
    },
    {
     "name": "stdout",
     "output_type": "stream",
     "text": [
      "Epoch 29: Training Loss = 0.9384676389846096, mDICE: 0, mIoU: 0 mDICE Robot: 0, mIoU Robot: 0\n"
     ]
    },
    {
     "name": "stderr",
     "output_type": "stream",
     "text": [
      "26it [02:43,  6.28s/it]\n",
      "10it [11:06, 66.63s/it]\n"
     ]
    },
    {
     "name": "stdout",
     "output_type": "stream",
     "text": [
      "Epoch 30: Training Loss = 0.9382006623880568, mDICE: 0.5105613551724124, mIoU: 0.4923460599597629 mDICE Robot: 0.034389818307038765, mIoU Robot: 0.03438241855609015\n"
     ]
    },
    {
     "name": "stderr",
     "output_type": "stream",
     "text": [
      "26it [02:43,  6.30s/it]\n"
     ]
    },
    {
     "name": "stdout",
     "output_type": "stream",
     "text": [
      "Epoch 31: Training Loss = 0.9380309797035555, mDICE: 0, mIoU: 0 mDICE Robot: 0, mIoU Robot: 0\n"
     ]
    },
    {
     "name": "stderr",
     "output_type": "stream",
     "text": [
      "26it [02:44,  6.34s/it]\n"
     ]
    },
    {
     "name": "stdout",
     "output_type": "stream",
     "text": [
      "Epoch 32: Training Loss = 0.9378792668305655, mDICE: 0, mIoU: 0 mDICE Robot: 0, mIoU Robot: 0\n"
     ]
    },
    {
     "name": "stderr",
     "output_type": "stream",
     "text": [
      "26it [02:44,  6.31s/it]\n"
     ]
    },
    {
     "name": "stdout",
     "output_type": "stream",
     "text": [
      "Epoch 33: Training Loss = 0.9375999234899458, mDICE: 0, mIoU: 0 mDICE Robot: 0, mIoU Robot: 0\n"
     ]
    },
    {
     "name": "stderr",
     "output_type": "stream",
     "text": [
      "26it [02:44,  6.34s/it]\n"
     ]
    },
    {
     "name": "stdout",
     "output_type": "stream",
     "text": [
      "Epoch 34: Training Loss = 0.9373855410850626, mDICE: 0, mIoU: 0 mDICE Robot: 0, mIoU Robot: 0\n"
     ]
    },
    {
     "name": "stderr",
     "output_type": "stream",
     "text": [
      "26it [02:44,  6.32s/it]\n",
      "10it [11:05, 66.50s/it]\n"
     ]
    },
    {
     "name": "stdout",
     "output_type": "stream",
     "text": [
      "Epoch 35: Training Loss = 0.937235035217128, mDICE: 0.5141085325251802, mIoU: 0.4949392428445289 mDICE Robot: 0.03326973888526757, mIoU Robot: 0.03304385398270001\n"
     ]
    },
    {
     "name": "stderr",
     "output_type": "stream",
     "text": [
      "26it [02:43,  6.29s/it]\n"
     ]
    },
    {
     "name": "stdout",
     "output_type": "stream",
     "text": [
      "Epoch 36: Training Loss = 0.9370941920173562, mDICE: 0, mIoU: 0 mDICE Robot: 0, mIoU Robot: 0\n"
     ]
    },
    {
     "name": "stderr",
     "output_type": "stream",
     "text": [
      "26it [02:44,  6.31s/it]\n"
     ]
    },
    {
     "name": "stdout",
     "output_type": "stream",
     "text": [
      "Epoch 37: Training Loss = 0.9370057753967258, mDICE: 0, mIoU: 0 mDICE Robot: 0, mIoU Robot: 0\n"
     ]
    },
    {
     "name": "stderr",
     "output_type": "stream",
     "text": [
      "26it [02:44,  6.33s/it]\n"
     ]
    },
    {
     "name": "stdout",
     "output_type": "stream",
     "text": [
      "Epoch 38: Training Loss = 0.9367939722573412, mDICE: 0, mIoU: 0 mDICE Robot: 0, mIoU Robot: 0\n"
     ]
    },
    {
     "name": "stderr",
     "output_type": "stream",
     "text": [
      "26it [02:43,  6.31s/it]\n"
     ]
    },
    {
     "name": "stdout",
     "output_type": "stream",
     "text": [
      "Epoch 39: Training Loss = 0.936590282178407, mDICE: 0, mIoU: 0 mDICE Robot: 0, mIoU Robot: 0\n"
     ]
    },
    {
     "name": "stderr",
     "output_type": "stream",
     "text": [
      "26it [02:43,  6.27s/it]\n",
      "10it [11:05, 66.53s/it]\n"
     ]
    },
    {
     "name": "stdout",
     "output_type": "stream",
     "text": [
      "Epoch 40: Training Loss = 0.9364720416943246, mDICE: 0.49743395196952944, mIoU: 0.4787628964433672 mDICE Robot: 0.031016458946125054, mIoU Robot: 0.030364530064953328\n"
     ]
    },
    {
     "name": "stderr",
     "output_type": "stream",
     "text": [
      "26it [02:43,  6.30s/it]\n"
     ]
    },
    {
     "name": "stdout",
     "output_type": "stream",
     "text": [
      "Epoch 41: Training Loss = 0.9363188707864831, mDICE: 0, mIoU: 0 mDICE Robot: 0, mIoU Robot: 0\n"
     ]
    },
    {
     "name": "stderr",
     "output_type": "stream",
     "text": [
      "26it [02:43,  6.29s/it]\n"
     ]
    },
    {
     "name": "stdout",
     "output_type": "stream",
     "text": [
      "Epoch 42: Training Loss = 0.9361894785022583, mDICE: 0, mIoU: 0 mDICE Robot: 0, mIoU Robot: 0\n"
     ]
    },
    {
     "name": "stderr",
     "output_type": "stream",
     "text": [
      "26it [02:43,  6.29s/it]\n"
     ]
    },
    {
     "name": "stdout",
     "output_type": "stream",
     "text": [
      "Epoch 43: Training Loss = 0.9360671742692964, mDICE: 0, mIoU: 0 mDICE Robot: 0, mIoU Robot: 0\n"
     ]
    },
    {
     "name": "stderr",
     "output_type": "stream",
     "text": [
      "26it [02:43,  6.31s/it]\n"
     ]
    },
    {
     "name": "stdout",
     "output_type": "stream",
     "text": [
      "Epoch 44: Training Loss = 0.9358996362674659, mDICE: 0, mIoU: 0 mDICE Robot: 0, mIoU Robot: 0\n"
     ]
    },
    {
     "name": "stderr",
     "output_type": "stream",
     "text": [
      "26it [02:44,  6.32s/it]\n",
      "10it [11:06, 66.67s/it]\n"
     ]
    },
    {
     "name": "stdout",
     "output_type": "stream",
     "text": [
      "Epoch 45: Training Loss = 0.9358048636770634, mDICE: 0.49167015835235883, mIoU: 0.47212251042209674 mDICE Robot: 0.0317936929144622, mIoU Robot: 0.030767287950858757\n"
     ]
    },
    {
     "name": "stderr",
     "output_type": "stream",
     "text": [
      "26it [02:43,  6.29s/it]\n"
     ]
    },
    {
     "name": "stdout",
     "output_type": "stream",
     "text": [
      "Epoch 46: Training Loss = 0.9356202916196108, mDICE: 0, mIoU: 0 mDICE Robot: 0, mIoU Robot: 0\n"
     ]
    },
    {
     "name": "stderr",
     "output_type": "stream",
     "text": [
      "26it [02:43,  6.30s/it]\n"
     ]
    },
    {
     "name": "stdout",
     "output_type": "stream",
     "text": [
      "Epoch 47: Training Loss = 0.9354847466392157, mDICE: 0, mIoU: 0 mDICE Robot: 0, mIoU Robot: 0\n"
     ]
    },
    {
     "name": "stderr",
     "output_type": "stream",
     "text": [
      "26it [02:44,  6.32s/it]\n"
     ]
    },
    {
     "name": "stdout",
     "output_type": "stream",
     "text": [
      "Epoch 48: Training Loss = 0.9354906239461069, mDICE: 0, mIoU: 0 mDICE Robot: 0, mIoU Robot: 0\n"
     ]
    },
    {
     "name": "stderr",
     "output_type": "stream",
     "text": [
      "26it [02:44,  6.31s/it]"
     ]
    },
    {
     "name": "stdout",
     "output_type": "stream",
     "text": [
      "Epoch 49: Training Loss = 0.935362471921477, mDICE: 0, mIoU: 0 mDICE Robot: 0, mIoU Robot: 0\n"
     ]
    },
    {
     "name": "stderr",
     "output_type": "stream",
     "text": [
      "\n"
     ]
    }
   ],
   "source": [
    "# train model. Output is [epoch, training_loss, mdice, miou, mdice_robot, miou_robot]\n",
    "training_outputs = []\n",
    "\n",
    "for i in range(epochs):\n",
    "    training_output = TrainingUtils.train(train_dataloader, val_dataloader, model, criterion, optimizer, scheduler, i, device)\n",
    "    training_outputs.append(training_output)"
   ]
  },
  {
   "cell_type": "code",
   "execution_count": 17,
   "metadata": {
    "id": "ofDke4ym45Sv"
   },
   "outputs": [],
   "source": [
    "# save trained model\n",
    "torch.save(model.state_dict(), \"model1.pth\")"
   ]
  },
  {
   "cell_type": "markdown",
   "metadata": {
    "id": "mmf16EdjD3bQ"
   },
   "source": [
    "## Results and Plots"
   ]
  },
  {
   "cell_type": "code",
   "execution_count": 18,
   "metadata": {
    "colab": {
     "base_uri": "https://localhost:8080/",
     "height": 1000
    },
    "id": "PY6K6DWED3bQ",
    "outputId": "0403e79f-4a9c-40b8-9823-7436d58d7160"
   },
   "outputs": [
    {
     "data": {
      "image/png": "[encoded data removed]",
      "text/plain": [
       "<Figure size 500x500 with 1 Axes>"
      ]
     },
     "metadata": {},
     "output_type": "display_data"
    },
    {
     "name": "stdout",
     "output_type": "stream",
     "text": [
      "[[0.00000000e+00 9.57605844e-01 5.56583335e-01 5.44007900e-01\n",
      "  1.29915386e-03 6.51959930e-04]\n",
      " [5.00000000e+00 9.47845253e-01 5.62693549e-01 5.46568647e-01\n",
      "  3.43750000e-02 3.43750000e-02]\n",
      " [1.00000000e+01 9.45276610e-01 5.38032433e-01 5.21396099e-01\n",
      "  3.43750000e-02 3.43750000e-02]\n",
      " [1.50000000e+01 9.43530462e-01 5.13786035e-01 4.96382699e-01\n",
      "  3.43750000e-02 3.43750000e-02]\n",
      " [2.00000000e+01 9.41473954e-01 5.07872915e-01 4.90162054e-01\n",
      "  3.43750000e-02 3.43750000e-02]\n",
      " [2.50000000e+01 9.39498683e-01 5.07908048e-01 4.89953182e-01\n",
      "  3.43750000e-02 3.43750000e-02]\n",
      " [3.00000000e+01 9.38200662e-01 5.10561355e-01 4.92346060e-01\n",
      "  3.43898183e-02 3.43824186e-02]\n",
      " [3.50000000e+01 9.37235035e-01 5.14108533e-01 4.94939243e-01\n",
      "  3.32697389e-02 3.30438540e-02]\n",
      " [4.00000000e+01 9.36472042e-01 4.97433952e-01 4.78762896e-01\n",
      "  3.10164589e-02 3.03645301e-02]\n",
      " [4.50000000e+01 9.35804864e-01 4.91670158e-01 4.72122510e-01\n",
      "  3.17936929e-02 3.07672880e-02]]\n"
     ]
    },
    {
     "data": {
      "image/png": "[encoded data removed]",
      "text/plain": [
       "<Figure size 500x500 with 1 Axes>"
      ]
     },
     "metadata": {},
     "output_type": "display_data"
    }
   ],
   "source": [
    "# process outputs\n",
    "training_outputs_cpu = []\n",
    "for i in training_outputs:\n",
    "    temp = []\n",
    "    for j in i:\n",
    "        if torch.is_tensor(j):\n",
    "            temp.append(j.cpu())\n",
    "        else:\n",
    "            temp.append(j)\n",
    "    training_outputs_cpu.append(temp)\n",
    "\n",
    "training_outputs_cpu = np.array(training_outputs_cpu)\n",
    "\n",
    "#print training loss\n",
    "plt.figure(figsize=(5, 5))\n",
    "plt.plot(training_outputs_cpu[:,0], training_outputs_cpu[:,1], label='Training Loss')\n",
    "plt.title('Training Loss over Epochs')\n",
    "plt.xlabel('Epoch')\n",
    "plt.ylabel('Loss')\n",
    "plt.legend()\n",
    "plt.grid()\n",
    "plt.show()\n",
    "\n",
    "#print validation scores\n",
    "training_outputs_cpu_filtered = [value for index, value in enumerate(training_outputs_cpu) if index % 5 == 0]\n",
    "training_outputs_cpu_filtered = np.array(training_outputs_cpu_filtered)\n",
    "print(training_outputs_cpu_filtered)\n",
    "plt.figure(figsize=(5, 5))\n",
    "plt.plot(training_outputs_cpu_filtered[:,0], training_outputs_cpu_filtered[:,2], label='mDICE')\n",
    "plt.plot(training_outputs_cpu_filtered[:,0], training_outputs_cpu_filtered[:,3], label='mIoU')\n",
    "plt.plot(training_outputs_cpu_filtered[:,0], training_outputs_cpu_filtered[:,4], label='mDICE Robot')\n",
    "plt.plot(training_outputs_cpu_filtered[:,0], training_outputs_cpu_filtered[:,5], label='mIoU Robot')\n",
    "plt.title('Validation Accuracy over Epochs')\n",
    "plt.xlabel('Epoch')\n",
    "plt.ylabel('Validation Accuracy')\n",
    "plt.legend()\n",
    "plt.grid()\n",
    "plt.show()"
   ]
  },
  {
   "cell_type": "code",
   "execution_count": null,
   "metadata": {
    "colab": {
     "base_uri": "https://localhost:8080/",
     "height": 373
    },
    "id": "o_xWqZJRD3bQ",
    "outputId": "6988af02-18a1-43b8-eb6b-321887e4617c"
   },
   "outputs": [],
   "source": [
    "# Test Model on Test Data\n",
    "# test model\n",
    "m_dice, m_iou, mdice_robot, miou_robot = TrainingUtils.test(model, test_dataloader, device)\n",
    "print(f\"Mean DICE Score: {m_dice}\")\n",
    "print(f\"Mean IoU Score: {m_iou}\")\n",
    "print(f\"Mean DICE Robot Score: {mdice_robot}\")\n",
    "print(f\"Mean IoU Robot Score: {miou_robot}\")"
   ]
  },
  {
   "cell_type": "code",
   "execution_count": null,
   "metadata": {
    "id": "bYcVHcAyD3bQ"
   },
   "outputs": [],
   "source": [
    "def get_ith_sample(dataloader, i):\n",
    "\n",
    "    batch_size = dataloader.batch_size\n",
    "    batch_idx = i // batch_size\n",
    "    sample_idx = i % batch_size\n",
    "\n",
    "    for current_batch_idx, (images, labels) in enumerate(dataloader):\n",
    "        if current_batch_idx == batch_idx:\n",
    "            # Return the i-th sample from the batch\n",
    "            return images[sample_idx], labels[sample_idx]\n",
    "\n",
    "# display model outputs\n",
    "model.cpu()\n",
    "#i = 1 # 0 to batch_size\n",
    "# pick 3 \"random\" images to compare models on\n",
    "imgs, labels = [], []\n",
    "img1, lab1 = get_ith_sample(val_dataloader, 198)\n",
    "img2, lab2 = get_ith_sample(val_dataloader, 271)\n",
    "img3, lab3 = get_ith_sample(test_dataloader, 159)\n",
    "imgs = [img1, img2, img3]\n",
    "labels = [lab1, lab2, lab3]\n",
    "results = []\n",
    "\n",
    "for i in range(3):\n",
    "    input, label = imgs[i].unsqueeze(0), labels[i].unsqueeze(0)\n",
    "\n",
    "    predict = model(input) # predict image\n",
    "    predict = torch.argmax(predict, dim=1) # get grayscale prediction\n",
    "    predict = torch.eye(12, device=predict.device)[predict].permute(0,3,1,2)\n",
    "    predict = torch.nn.functional.interpolate(predict.float(), size=label.shape[2:], mode=\"nearest-exact\")  # match label size\n",
    "    prediction = EndovisDataloader.convert_masks_to_gray(predict.squeeze(0))\n",
    "\n",
    "    label = EndovisDataloader.convert_masks_to_gray(label.squeeze(0))\n",
    "\n",
    "    cmap = plt.get_cmap('Paired',12)\n",
    "    cbar_ticks = [0,1,2,3,4,5,6,7,8,9,10,11]\n",
    "    cbar_labels = [\"Background Tissue\", \"Instrument Shaft\", \"Instrument Clasper\", \"Instrument Wrist\", \"Kidney Parenchyma\", \"Covered Kidney\",\n",
    "                \"Thread\", \"Clamps\", \"Suturing Needle\", \"Suction Instrument\", \"Small Intestine\", \"Ultrasound Probe\"]\n",
    "\n",
    "    # un-normalize input\n",
    "    mean = torch.tensor([0.464, 0.341, 0.363]).view(-1, 1, 1)\n",
    "    std = torch.tensor([0.210, 0.194, 0.204]).view(-1, 1, 1)\n",
    "    input = input.squeeze(0) * std + mean\n",
    "\n",
    "    results.append((input,label,prediction))\n",
    "\n",
    "\n",
    "fig, axes = plt.subplots(3, 3, figsize=(10, 10))\n",
    "for i in range(3):\n",
    "    axes[i,0].imshow(results[i][0].permute(1, 2, 0))\n",
    "    axes[i,1].imshow(results[i][1], cmap = cmap, vmin = 0, vmax = 11)\n",
    "    im = axes[i,2].imshow(results[i][2], cmap = cmap, vmin = 0, vmax = 11)\n",
    "\n",
    "    cbar = fig.colorbar(im, ax=axes[i,2], fraction=0.046, pad=0.04)\n",
    "    cbar.set_label(\"Segmentation Labels\", fontsize=10)\n",
    "    cbar.set_ticks(cbar_ticks)\n",
    "    cbar.set_ticklabels(cbar_labels)\n",
    "\n",
    "\n",
    "plt.tight_layout()\n",
    "plt.show()\n",
    "\n",
    "# things to record: epochs, batch_size, reduce_factor, training loss curve, training time, validation score curves, test scores, test time, example image (below)"
   ]
  }
 ],
 "metadata": {
  "accelerator": "GPU",
  "colab": {
   "gpuType": "A100",
   "machine_shape": "hm",
   "provenance": []
  },
  "kernelspec": {
   "display_name": "base",
   "language": "python",
   "name": "python3"
  },
  "language_info": {
   "name": "python",
   "version": "3.12.4"
  }
 },
 "nbformat": 4,
 "nbformat_minor": 0
}
